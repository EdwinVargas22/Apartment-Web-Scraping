{
 "cells": [
  {
   "cell_type": "code",
   "execution_count": 1,
   "metadata": {},
   "outputs": [],
   "source": [
    "# Import Libraries\n",
    "\n",
    "from bs4 import BeautifulSoup\n",
    "import requests\n",
    "import openpyxl"
   ]
  },
  {
   "cell_type": "code",
   "execution_count": 2,
   "metadata": {},
   "outputs": [
    {
     "name": "stdout",
     "output_type": "stream",
     "text": [
      "['Sheet']\n",
      "['Top 250 TV Shows']\n"
     ]
    }
   ],
   "source": [
    "# Creating an excel file\n",
    "\n",
    "excel = openpyxl.Workbook()\n",
    "\n",
    "# Viewing the sheet name\n",
    "\n",
    "print(excel.sheetnames)\n",
    "\n",
    "# Being on the active sheet\n",
    "sheet = excel.active\n",
    "\n",
    "# Renaming the sheet name\n",
    "sheet.title = 'Top 250 TV Shows'\n",
    "\n",
    "# Viewing the new sheet name\n",
    "print(excel.sheetnames)\n",
    "\n",
    "# Add the 4 column names to the sheet\n",
    "sheet.append(['TV Show Rank', 'TV Show Name', 'Year of Release', 'IMDb Rating'])"
   ]
  },
  {
   "cell_type": "code",
   "execution_count": 3,
   "metadata": {},
   "outputs": [],
   "source": [
    "# Setup the URL\n",
    "\n",
    "URL = \"https://www.imdb.com/chart/toptv/?ref_=nv_tvv_250\"\n",
    "\n",
    "try:\n",
    "\n",
    "    page = requests.get(URL)\n",
    "\n",
    "    # Error will be thrown in case there are issues with the URL\n",
    "\n",
    "    page.raise_for_status()\n",
    "\n",
    "    # Getting the html text from the URL and parse it\n",
    "\n",
    "    soup = BeautifulSoup(page.text, 'html.parser')\n",
    "\n",
    "    # Accessing the html that contains the information that is needed\n",
    "    \n",
    "    tv_shows = soup.find('tbody', class_= \"lister-list\").find_all('tr')\n",
    "\n",
    "    # Running a for loop to collect the information for each of the tv shows\n",
    "    \n",
    "    for tv_show in tv_shows:\n",
    "\n",
    "        # Collecting the rank of the tv show\n",
    "\n",
    "        rank = tv_show.find('td', class_ = \"titleColumn\").get_text(strip=True).split('.')[0]\n",
    "\n",
    "        # Collecting the name of the tv show\n",
    "\n",
    "        name = tv_show.find('td', class_ = \"titleColumn\").a.text\n",
    "\n",
    "        # Collecting the release year of the tv show\n",
    "\n",
    "        release_year = tv_show.find('td', class_ = \"titleColumn\").span.text.strip('()')\n",
    "\n",
    "        # Collecting the IMDb rating of the tv show\n",
    "\n",
    "        rating = tv_show.find('td', class_ = \"ratingColumn imdbRating\").strong.text\n",
    "\n",
    "        # Adding the information collected from the tv shows into the excel sheet\n",
    "\n",
    "        sheet.append([rank, name, release_year, rating])\n",
    "\n",
    "except Exception as e:\n",
    "    print(e)\n",
    "\n",
    "# Saving my excel file\n",
    "\n",
    "excel.save('Resources/IMDb_Top_250_TV_Shows.xlsx')"
   ]
  },
  {
   "cell_type": "code",
   "execution_count": null,
   "metadata": {},
   "outputs": [],
   "source": []
  }
 ],
 "metadata": {
  "interpreter": {
   "hash": "6ac120d1f8ed98fc9765f9f9948cb9e149ae42a5e3a15fa9af6ef8cfc47c39f1"
  },
  "kernelspec": {
   "display_name": "Python 3.10.1 ('full_ds')",
   "language": "python",
   "name": "python3"
  },
  "language_info": {
   "codemirror_mode": {
    "name": "ipython",
    "version": 3
   },
   "file_extension": ".py",
   "mimetype": "text/x-python",
   "name": "python",
   "nbconvert_exporter": "python",
   "pygments_lexer": "ipython3",
   "version": "3.10.1"
  },
  "orig_nbformat": 4
 },
 "nbformat": 4,
 "nbformat_minor": 2
}
