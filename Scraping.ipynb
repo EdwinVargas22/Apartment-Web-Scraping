{
 "cells": [
  {
   "cell_type": "code",
   "execution_count": 1,
   "metadata": {},
   "outputs": [],
   "source": [
    "# Import Libraries\n",
    "\n",
    "from bs4 import BeautifulSoup\n",
    "import requests\n",
    "from csv import writer"
   ]
  },
  {
   "cell_type": "code",
   "execution_count": 6,
   "metadata": {},
   "outputs": [
    {
     "name": "stdout",
     "output_type": "stream",
     "text": [
      "1\n"
     ]
    }
   ],
   "source": [
    "URL = \"https://www.imdb.com/chart/toptv/?ref_=nv_tvv_250\"\n",
    "\n",
    "try:\n",
    "\n",
    "    page = requests.get(URL)\n",
    "    page.raise_for_status()\n",
    "\n",
    "    soup = BeautifulSoup(page.text, 'html.parser')\n",
    "    \n",
    "    tv_shows = soup.find('tbody', class_= \"lister-list\").find_all('tr')\n",
    "    \n",
    "    for tv_show in tv_shows:\n",
    "\n",
    "        rank = tv_show.find('td', class_ = \"titleColumn\").get_text(strip=True).split('.')[0]\n",
    "\n",
    "        print(rank)\n",
    "        break\n",
    "except Exception as e:\n",
    "    print(e)\n",
    "\n"
   ]
  },
  {
   "cell_type": "code",
   "execution_count": null,
   "metadata": {},
   "outputs": [],
   "source": []
  }
 ],
 "metadata": {
  "interpreter": {
   "hash": "6ac120d1f8ed98fc9765f9f9948cb9e149ae42a5e3a15fa9af6ef8cfc47c39f1"
  },
  "kernelspec": {
   "display_name": "Python 3.10.1 ('full_ds')",
   "language": "python",
   "name": "python3"
  },
  "language_info": {
   "codemirror_mode": {
    "name": "ipython",
    "version": 3
   },
   "file_extension": ".py",
   "mimetype": "text/x-python",
   "name": "python",
   "nbconvert_exporter": "python",
   "pygments_lexer": "ipython3",
   "version": "3.10.1"
  },
  "orig_nbformat": 4
 },
 "nbformat": 4,
 "nbformat_minor": 2
}
